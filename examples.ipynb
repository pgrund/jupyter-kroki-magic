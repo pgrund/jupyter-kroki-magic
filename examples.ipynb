{
 "cells": [
  {
   "cell_type": "code",
   "execution_count": 1,
   "metadata": {},
   "outputs": [],
   "source": [
    "%load_ext krokimagic"
   ]
  },
  {
   "cell_type": "markdown",
   "metadata": {},
   "source": [
    "# UML"
   ]
  },
  {
   "cell_type": "code",
   "execution_count": 2,
   "metadata": {},
   "outputs": [
    {
     "data": {
      "image/svg+xml": [
       "<svg contentScriptType=\"application/ecmascript\" contentStyleType=\"text/css\" height=\"576.5625px\" preserveAspectRatio=\"none\" style=\"width:406px;height:576px;background:#FFFFFF;\" version=\"1.1\" viewBox=\"0 0 406 576\" width=\"406.25px\" xmlns=\"http://www.w3.org/2000/svg\" xmlns:xlink=\"http://www.w3.org/1999/xlink\" zoomAndPan=\"magnify\"><defs><filter height=\"300%\" id=\"f1dwx3iaec31et\" width=\"300%\" x=\"-1\" y=\"-1\"><feGaussianBlur result=\"blurOut\" stdDeviation=\"3.125\"/><feColorMatrix in=\"blurOut\" result=\"blurOut2\" type=\"matrix\" values=\"0 0 0 0 0 0 0 0 0 0 0 0 0 0 0 0 0 0 .4 0\"/><feOffset dx=\"6.25\" dy=\"6.25\" in=\"blurOut2\" result=\"blurOut3\"/><feBlend in=\"SourceGraphic\" in2=\"blurOut3\" mode=\"normal\"/></filter></defs><g><!--MD5=[e80bd461753d6c5ec111731420959425]\n",
       "cluster Main--><rect fill=\"#FFFFFF\" filter=\"url(#f1dwx3iaec31et)\" height=\"221.875\" style=\"stroke:#000000;stroke-width:1.5625;\" width=\"203.125\" x=\"10.9375\" y=\"89.0625\"/><text fill=\"#000000\" font-family=\"sans-serif\" font-size=\"18.75\" font-weight=\"bold\" lengthAdjust=\"spacing\" textLength=\"42.1875\" x=\"15.625\" y=\"110.9376\">Main</text><!--MD5=[64d5e6a70a29946089aa2bd5a6c51607]\n",
       "cluster Base--><rect fill=\"#FFFFFF\" filter=\"url(#f1dwx3iaec31et)\" height=\"195.3125\" style=\"stroke:#000000;stroke-width:1.5625;\" width=\"370.3125\" x=\"17.1875\" y=\"362.5\"/><text fill=\"#000000\" font-family=\"sans-serif\" font-size=\"18.75\" font-weight=\"bold\" lengthAdjust=\"spacing\" textLength=\"45.3125\" x=\"21.875\" y=\"384.3751\">Base</text><ellipse cx=\"112.4405\" cy=\"161.2225\" fill=\"#F8F8F8\" filter=\"url(#f1dwx3iaec31et)\" rx=\"76.503\" ry=\"20.5975\" style=\"stroke:#383838;stroke-width:0.625;\"/><text fill=\"#000000\" font-family=\"sans-serif\" font-size=\"18.75\" lengthAdjust=\"spacing\" textLength=\"82.8125\" x=\"71.0343\" y=\"165.5976\">main.view</text><ellipse cx=\"107.8316\" cy=\"265.91\" fill=\"#F8F8F8\" filter=\"url(#f1dwx3iaec31et)\" rx=\"68.7691\" ry=\"20.5975\" style=\"stroke:#383838;stroke-width:0.625;\"/><text fill=\"#000000\" font-family=\"sans-serif\" font-size=\"18.75\" lengthAdjust=\"spacing\" textLength=\"71.875\" x=\"71.8941\" y=\"270.2851\">singleton</text><ellipse cx=\"262.3451\" cy=\"509.5003\" fill=\"#F8F8F8\" filter=\"url(#f1dwx3iaec31et)\" rx=\"99.0639\" ry=\"23.5628\" style=\"stroke:#383838;stroke-width:0.625;\"/><text fill=\"#000000\" font-family=\"sans-serif\" font-size=\"18.75\" lengthAdjust=\"spacing\" textLength=\"132.8125\" x=\"195.9389\" y=\"513.8753\">base.component</text><ellipse cx=\"282.9426\" cy=\"434.66\" fill=\"#F8F8F8\" filter=\"url(#f1dwx3iaec31et)\" rx=\"79.8176\" ry=\"20.5975\" style=\"stroke:#383838;stroke-width:0.625;\"/><text fill=\"#000000\" font-family=\"sans-serif\" font-size=\"18.75\" lengthAdjust=\"spacing\" textLength=\"87.5\" x=\"239.1926\" y=\"439.0351\">component</text><ellipse cx=\"95.4886\" cy=\"434.66\" fill=\"#F8F8F8\" filter=\"url(#f1dwx3iaec31et)\" rx=\"53.3011\" ry=\"20.5975\" style=\"stroke:#383838;stroke-width:0.625;\"/><text fill=\"#000000\" font-family=\"sans-serif\" font-size=\"18.75\" lengthAdjust=\"spacing\" textLength=\"50\" x=\"70.4886\" y=\"439.0351\">model</text><!--MD5=[e4debf9f501b0b216ec672912727c4c4]\n",
       "entity main_ts--><rect fill=\"#F8F8F8\" filter=\"url(#f1dwx3iaec31et)\" height=\"53.7502\" style=\"stroke:#000000;stroke-width:1.5625;\" width=\"96.875\" x=\"64.0625\" y=\"10.9375\"/><text fill=\"#000000\" font-family=\"sans-serif\" font-size=\"18.75\" font-weight=\"bold\" lengthAdjust=\"spacing\" textLength=\"65.625\" x=\"79.6875\" y=\"45.3126\">main.ts</text><!--MD5=[148b5042eb5e419fc7041d7724d0786a]\n",
       "link component to base.component--><path d=\"M277.4688,454.8281 C275.4688,461.9375 273.125,470.2031 270.9063,478.0781 \" fill=\"none\" id=\"component-to-base.component\" style=\"stroke:#383838;stroke-width:1.09375;stroke-dasharray:7.0,7.0;\"/><polygon fill=\"#383838\" points=\"268.7344,485.7344,278.5654,473.8952,270.8541,478.2149,266.5343,470.5036,268.7344,485.7344\" style=\"stroke:#383838;stroke-width:1.09375;\"/><!--MD5=[a0e21e09820a7842d12098adfbb2e81d]\n",
       "link main_ts to main.view--><path d=\"M112.5,64.5781 C112.5,84.375 112.5,111.7656 112.5,132.0156 \" fill=\"none\" id=\"main_ts-to-main.view\" style=\"stroke:#383838;stroke-width:3.125;\"/><polygon fill=\"#383838\" points=\"112.5,140.2188,118.75,126.1563,112.5,132.4063,106.25,126.1563,112.5,140.2188\" style=\"stroke:#383838;stroke-width:3.125;\"/><!--MD5=[4441bedd105933de0d7532f2ab638273]\n",
       "link main.view to component--><path d=\"M137.1406,180.2187 C157.0781,195.5938 184.7656,219.3906 203.125,245.3125 C239.7656,297.0625 264.1563,368.2656 275.5,406.3125 \" fill=\"none\" id=\"main.view-to-component\" style=\"stroke:#383838;stroke-width:1.09375;\"/><polygon fill=\"#383838\" points=\"277.7188,413.9062,279.7812,398.6563,275.5313,406.4062,267.7812,402.1563,277.7188,413.9062\" style=\"stroke:#383838;stroke-width:1.09375;\"/><!--MD5=[13ad85ba1f11006a238f12e2f77a82bd]\n",
       "link main.view to singleton--><path d=\"M111.625,181.6094 C110.8906,197.2031 109.875,219.4531 109.0625,236.9063 \" fill=\"none\" id=\"main.view-to-singleton\" style=\"stroke:#383838;stroke-width:1.09375;stroke-dasharray:7.0,7.0;\"/><polygon fill=\"#383838\" points=\"108.6875,245.0469,115.5732,231.2845,109.0443,237.2425,103.0862,230.7136,108.6875,245.0469\" style=\"stroke:#383838;stroke-width:1.09375;\"/><!--MD5=[aa7a8951c655979b364d27a3b63fee25]\n",
       "link singleton to model--><path d=\"M106.375,286.1875 C104.1563,315.6406 99.875,372.4219 97.3281,406.0156 \" fill=\"none\" id=\"singleton-to-model\" style=\"stroke:#383838;stroke-width:1.09375;\"/><polygon fill=\"#383838\" points=\"96.7344,414.0313,104.0504,400.4927,97.337,406.242,91.5877,399.5286,96.7344,414.0313\" style=\"stroke:#383838;stroke-width:1.09375;\"/><!--MD5=[95856f56b0bc85a739286f02855b5cd4]\n",
       "@startuml\n",
       "skinparam monochrome true\n",
       "skinparam ranksep 20\n",
       "skinparam dpi 150\n",
       "skinparam arrowThickness 0.7\n",
       "skinparam packageTitleAlignment left\n",
       "skinparam usecaseBorderThickness 0.4\n",
       "skinparam defaultFontSize 12\n",
       "skinparam rectangleBorderThickness 1\n",
       "\n",
       "rectangle \"Main\" {\n",
       "  (main.view)\n",
       "  (singleton)\n",
       "}\n",
       "rectangle \"Base\" {\n",
       "  (base.component)\n",
       "  (component)\n",
       "  (model)\n",
       "}\n",
       "rectangle \"<b>main.ts</b>\" as main_ts\n",
       "\n",
       "(component) ..> (base.component)\n",
       "main_ts ==> (main.view)\n",
       "(main.view) - -> (component)\n",
       "(main.view) ...> (singleton)\n",
       "(singleton) - - -> (model)\n",
       "@enduml\n",
       "\n",
       "PlantUML version 1.2021.6(Fri May 14 07:09:51 GMT 2021)\n",
       "(GPL source distribution)\n",
       "Java Runtime: OpenJDK Runtime Environment\n",
       "JVM: OpenJDK 64-Bit Server VM\n",
       "Default Encoding: UTF-8\n",
       "Language: en\n",
       "Country: US\n",
       "--></g></svg>"
      ],
      "text/plain": [
       "<IPython.core.display.SVG object>"
      ]
     },
     "metadata": {},
     "output_type": "display_data"
    }
   ],
   "source": [
    "%%kroki plantuml\n",
    "\n",
    "skinparam monochrome true\n",
    "skinparam ranksep 20\n",
    "skinparam dpi 150\n",
    "skinparam arrowThickness 0.7\n",
    "skinparam packageTitleAlignment left\n",
    "skinparam usecaseBorderThickness 0.4\n",
    "skinparam defaultFontSize 12\n",
    "skinparam rectangleBorderThickness 1\n",
    "\n",
    "rectangle \"Main\" {\n",
    "  (main.view)\n",
    "  (singleton)\n",
    "}\n",
    "rectangle \"Base\" {\n",
    "  (base.component)\n",
    "  (component)\n",
    "  (model)\n",
    "}\n",
    "rectangle \"<b>main.ts</b>\" as main_ts\n",
    "\n",
    "(component) ..> (base.component)\n",
    "main_ts ==> (main.view)\n",
    "(main.view) --> (component)\n",
    "(main.view) ...> (singleton)\n",
    "(singleton) ---> (model)"
   ]
  },
  {
   "cell_type": "markdown",
   "metadata": {},
   "source": [
    "# Block Diagram"
   ]
  },
  {
   "cell_type": "code",
   "execution_count": 3,
   "metadata": {},
   "outputs": [
    {
     "data": {
      "image/svg+xml": [
       "<svg height=\"200px\" viewBox=\"0 0 640 200\" width=\"640px\" xmlns=\"http://www.w3.org/2000/svg\" xmlns:inkspace=\"http://www.inkscape.org/namespaces/inkscape\" xmlns:xlink=\"http://www.w3.org/1999/xlink\">\n",
       "  <defs id=\"defs_block\">\n",
       "    <filter height=\"1.504\" id=\"filter_blur\" inkspace:collect=\"always\" width=\"1.1575\" x=\"-0.07875\" y=\"-0.252\">\n",
       "      <feGaussianBlur id=\"feGaussianBlur3780\" inkspace:collect=\"always\" stdDeviation=\"4.2\"/>\n",
       "    </filter>\n",
       "  </defs>\n",
       "  <title>blockdiag</title>\n",
       "  <desc>\n",
       "blockdiag {\n",
       "  blockdiag -&gt; generates -&gt; &quot;block-diagrams&quot;;\n",
       "  blockdiag -&gt; is -&gt; &quot;very easy!&quot;;\n",
       "\n",
       "  blockdiag [color = &quot;greenyellow&quot;];\n",
       "  &quot;block-diagrams&quot; [color = &quot;pink&quot;];\n",
       "  &quot;very easy!&quot; [color = &quot;orange&quot;];\n",
       "}\n",
       "</desc>\n",
       "  <rect fill=\"rgb(0,0,0)\" height=\"40\" stroke=\"rgb(0,0,0)\" style=\"filter:url(#filter_blur);opacity:0.7;fill-opacity:1\" width=\"128\" x=\"67\" y=\"46\"/>\n",
       "  <rect fill=\"rgb(0,0,0)\" height=\"40\" stroke=\"rgb(0,0,0)\" style=\"filter:url(#filter_blur);opacity:0.7;fill-opacity:1\" width=\"128\" x=\"259\" y=\"46\"/>\n",
       "  <rect fill=\"rgb(0,0,0)\" height=\"40\" stroke=\"rgb(0,0,0)\" style=\"filter:url(#filter_blur);opacity:0.7;fill-opacity:1\" width=\"128\" x=\"259\" y=\"126\"/>\n",
       "  <rect fill=\"rgb(0,0,0)\" height=\"40\" stroke=\"rgb(0,0,0)\" style=\"filter:url(#filter_blur);opacity:0.7;fill-opacity:1\" width=\"128\" x=\"451\" y=\"46\"/>\n",
       "  <rect fill=\"rgb(0,0,0)\" height=\"40\" stroke=\"rgb(0,0,0)\" style=\"filter:url(#filter_blur);opacity:0.7;fill-opacity:1\" width=\"128\" x=\"451\" y=\"126\"/>\n",
       "  <rect fill=\"rgb(173,255,47)\" height=\"40\" stroke=\"rgb(0,0,0)\" width=\"128\" x=\"64\" y=\"40\"/>\n",
       "  <text fill=\"rgb(0,0,0)\" font-family=\"sans-serif\" font-size=\"11\" font-style=\"normal\" font-weight=\"normal\" text-anchor=\"middle\" textLength=\"55\" x=\"128.5\" y=\"66\">blockdiag</text>\n",
       "  <rect fill=\"rgb(255,255,255)\" height=\"40\" stroke=\"rgb(0,0,0)\" width=\"128\" x=\"256\" y=\"40\"/>\n",
       "  <text fill=\"rgb(0,0,0)\" font-family=\"sans-serif\" font-size=\"11\" font-style=\"normal\" font-weight=\"normal\" text-anchor=\"middle\" textLength=\"55\" x=\"320.5\" y=\"66\">generates</text>\n",
       "  <rect fill=\"rgb(255,255,255)\" height=\"40\" stroke=\"rgb(0,0,0)\" width=\"128\" x=\"256\" y=\"120\"/>\n",
       "  <text fill=\"rgb(0,0,0)\" font-family=\"sans-serif\" font-size=\"11\" font-style=\"normal\" font-weight=\"normal\" text-anchor=\"middle\" textLength=\"13\" x=\"320.5\" y=\"146\">is</text>\n",
       "  <rect fill=\"rgb(255,192,203)\" height=\"40\" stroke=\"rgb(0,0,0)\" width=\"128\" x=\"448\" y=\"40\"/>\n",
       "  <text fill=\"rgb(0,0,0)\" font-family=\"sans-serif\" font-size=\"11\" font-style=\"normal\" font-weight=\"normal\" text-anchor=\"middle\" textLength=\"85\" x=\"512.5\" y=\"66\">block-diagrams</text>\n",
       "  <rect fill=\"rgb(255,165,0)\" height=\"40\" stroke=\"rgb(0,0,0)\" width=\"128\" x=\"448\" y=\"120\"/>\n",
       "  <text fill=\"rgb(0,0,0)\" font-family=\"sans-serif\" font-size=\"11\" font-style=\"normal\" font-weight=\"normal\" text-anchor=\"middle\" textLength=\"61\" x=\"512.5\" y=\"146\">very easy!</text>\n",
       "  <path d=\"M 192 60 L 248 60\" fill=\"none\" stroke=\"rgb(0,0,0)\"/>\n",
       "  <polygon fill=\"rgb(0,0,0)\" points=\"255,60 248,56 248,64 255,60\" stroke=\"rgb(0,0,0)\"/>\n",
       "  <path d=\"M 192 60 L 224 60\" fill=\"none\" stroke=\"rgb(0,0,0)\"/>\n",
       "  <path d=\"M 224 60 L 224 140\" fill=\"none\" stroke=\"rgb(0,0,0)\"/>\n",
       "  <path d=\"M 224 140 L 248 140\" fill=\"none\" stroke=\"rgb(0,0,0)\"/>\n",
       "  <polygon fill=\"rgb(0,0,0)\" points=\"255,140 248,136 248,144 255,140\" stroke=\"rgb(0,0,0)\"/>\n",
       "  <path d=\"M 384 60 L 440 60\" fill=\"none\" stroke=\"rgb(0,0,0)\"/>\n",
       "  <polygon fill=\"rgb(0,0,0)\" points=\"447,60 440,56 440,64 447,60\" stroke=\"rgb(0,0,0)\"/>\n",
       "  <path d=\"M 384 140 L 440 140\" fill=\"none\" stroke=\"rgb(0,0,0)\"/>\n",
       "  <polygon fill=\"rgb(0,0,0)\" points=\"447,140 440,136 440,144 447,140\" stroke=\"rgb(0,0,0)\"/>\n",
       "</svg>"
      ],
      "text/plain": [
       "<IPython.core.display.SVG object>"
      ]
     },
     "metadata": {},
     "output_type": "display_data"
    }
   ],
   "source": [
    "%%kroki blockdiag\n",
    "\n",
    "blockdiag {\n",
    "  blockdiag -> generates -> \"block-diagrams\";\n",
    "  blockdiag -> is -> \"very easy!\";\n",
    "\n",
    "  blockdiag [color = \"greenyellow\"];\n",
    "  \"block-diagrams\" [color = \"pink\"];\n",
    "  \"very easy!\" [color = \"orange\"];\n",
    "}"
   ]
  },
  {
   "cell_type": "markdown",
   "metadata": {},
   "source": [
    "# Sequence Diagram"
   ]
  },
  {
   "cell_type": "code",
   "execution_count": 4,
   "metadata": {},
   "outputs": [
    {
     "data": {
      "image/svg+xml": [
       "<svg height=\"489px\" viewBox=\"0 0 640 489\" width=\"640px\" xmlns=\"http://www.w3.org/2000/svg\" xmlns:inkspace=\"http://www.inkscape.org/namespaces/inkscape\" xmlns:xlink=\"http://www.w3.org/1999/xlink\">\n",
       "  <defs id=\"defs_block\">\n",
       "    <filter height=\"1.504\" id=\"filter_blur\" inkspace:collect=\"always\" width=\"1.1575\" x=\"-0.07875\" y=\"-0.252\">\n",
       "      <feGaussianBlur id=\"feGaussianBlur3780\" inkspace:collect=\"always\" stdDeviation=\"4.2\"/>\n",
       "    </filter>\n",
       "  </defs>\n",
       "  <title>blockdiag</title>\n",
       "  <desc>\n",
       "seqdiag {\n",
       "  browser  -&gt; webserver [label = &quot;GET /index.html&quot;];\n",
       "  browser &lt;-- webserver;\n",
       "  browser  -&gt; webserver [label = &quot;POST /blog/comment&quot;];\n",
       "  webserver  -&gt; database [label = &quot;INSERT comment&quot;];\n",
       "  webserver &lt;-- database;\n",
       "  browser &lt;-- webserver;\n",
       "}\n",
       "</desc>\n",
       "  <rect fill=\"rgb(0,0,0)\" height=\"326\" style=\"filter:url(#filter_blur);opacity:0.7;fill-opacity:1\" width=\"8\" x=\"127\" y=\"141\"/>\n",
       "  <rect fill=\"rgb(0,0,0)\" height=\"50\" style=\"filter:url(#filter_blur);opacity:0.7;fill-opacity:1\" width=\"8\" x=\"319\" y=\"141\"/>\n",
       "  <rect fill=\"rgb(0,0,0)\" height=\"165\" style=\"filter:url(#filter_blur);opacity:0.7;fill-opacity:1\" width=\"8\" x=\"319\" y=\"256\"/>\n",
       "  <rect fill=\"rgb(0,0,0)\" height=\"50\" style=\"filter:url(#filter_blur);opacity:0.7;fill-opacity:1\" width=\"8\" x=\"511\" y=\"321\"/>\n",
       "  <rect fill=\"rgb(0,0,0)\" height=\"40\" stroke=\"rgb(0,0,0)\" style=\"filter:url(#filter_blur);opacity:0.7;fill-opacity:1\" width=\"128\" x=\"67\" y=\"46\"/>\n",
       "  <rect fill=\"rgb(0,0,0)\" height=\"40\" stroke=\"rgb(0,0,0)\" style=\"filter:url(#filter_blur);opacity:0.7;fill-opacity:1\" width=\"128\" x=\"259\" y=\"46\"/>\n",
       "  <rect fill=\"rgb(0,0,0)\" height=\"40\" stroke=\"rgb(0,0,0)\" style=\"filter:url(#filter_blur);opacity:0.7;fill-opacity:1\" width=\"128\" x=\"451\" y=\"46\"/>\n",
       "  <path d=\"M 128 80 L 128 477\" fill=\"none\" stroke=\"rgb(0,0,0)\" stroke-dasharray=\"8 4\"/>\n",
       "  <rect fill=\"moccasin\" height=\"326\" stroke=\"rgb(0,0,0)\" width=\"8\" x=\"124\" y=\"135\"/>\n",
       "  <path d=\"M 320 80 L 320 477\" fill=\"none\" stroke=\"rgb(0,0,0)\" stroke-dasharray=\"8 4\"/>\n",
       "  <rect fill=\"moccasin\" height=\"50\" stroke=\"rgb(0,0,0)\" width=\"8\" x=\"316\" y=\"135\"/>\n",
       "  <rect fill=\"moccasin\" height=\"165\" stroke=\"rgb(0,0,0)\" width=\"8\" x=\"316\" y=\"250\"/>\n",
       "  <path d=\"M 512 80 L 512 477\" fill=\"none\" stroke=\"rgb(0,0,0)\" stroke-dasharray=\"8 4\"/>\n",
       "  <rect fill=\"moccasin\" height=\"50\" stroke=\"rgb(0,0,0)\" width=\"8\" x=\"508\" y=\"315\"/>\n",
       "  <rect fill=\"rgb(255,255,255)\" height=\"40\" stroke=\"rgb(0,0,0)\" width=\"128\" x=\"64\" y=\"40\"/>\n",
       "  <text fill=\"rgb(0,0,0)\" font-family=\"sans-serif\" font-size=\"11\" font-style=\"normal\" font-weight=\"normal\" text-anchor=\"middle\" textLength=\"43\" x=\"128.5\" y=\"66\">browser</text>\n",
       "  <rect fill=\"rgb(255,255,255)\" height=\"40\" stroke=\"rgb(0,0,0)\" width=\"128\" x=\"256\" y=\"40\"/>\n",
       "  <text fill=\"rgb(0,0,0)\" font-family=\"sans-serif\" font-size=\"11\" font-style=\"normal\" font-weight=\"normal\" text-anchor=\"middle\" textLength=\"55\" x=\"320.5\" y=\"66\">webserver</text>\n",
       "  <rect fill=\"rgb(255,255,255)\" height=\"40\" stroke=\"rgb(0,0,0)\" width=\"128\" x=\"448\" y=\"40\"/>\n",
       "  <text fill=\"rgb(0,0,0)\" font-family=\"sans-serif\" font-size=\"11\" font-style=\"normal\" font-weight=\"normal\" text-anchor=\"middle\" textLength=\"49\" x=\"512.5\" y=\"66\">database</text>\n",
       "  <path d=\"M 136 135 L 312 135\" fill=\"none\" stroke=\"rgb(0,0,0)\"/>\n",
       "  <polygon fill=\"rgb(0,0,0)\" points=\"304,131 312,135 304,139\" stroke=\"rgb(0,0,0)\"/>\n",
       "  <path d=\"M 136 185 L 312 185\" fill=\"none\" stroke=\"rgb(0,0,0)\" stroke-dasharray=\"4\"/>\n",
       "  <polygon fill=\"rgb(0,0,0)\" points=\"144,181 136,185 144,189\" stroke=\"rgb(0,0,0)\"/>\n",
       "  <path d=\"M 136 250 L 312 250\" fill=\"none\" stroke=\"rgb(0,0,0)\"/>\n",
       "  <polygon fill=\"rgb(0,0,0)\" points=\"304,246 312,250 304,254\" stroke=\"rgb(0,0,0)\"/>\n",
       "  <path d=\"M 328 315 L 504 315\" fill=\"none\" stroke=\"rgb(0,0,0)\"/>\n",
       "  <polygon fill=\"rgb(0,0,0)\" points=\"496,311 504,315 496,319\" stroke=\"rgb(0,0,0)\"/>\n",
       "  <path d=\"M 328 365 L 504 365\" fill=\"none\" stroke=\"rgb(0,0,0)\" stroke-dasharray=\"4\"/>\n",
       "  <polygon fill=\"rgb(0,0,0)\" points=\"336,361 328,365 336,369\" stroke=\"rgb(0,0,0)\"/>\n",
       "  <path d=\"M 136 415 L 312 415\" fill=\"none\" stroke=\"rgb(0,0,0)\" stroke-dasharray=\"4\"/>\n",
       "  <polygon fill=\"rgb(0,0,0)\" points=\"144,411 136,415 144,419\" stroke=\"rgb(0,0,0)\"/>\n",
       "  <text fill=\"rgb(0,0,0)\" font-family=\"sans-serif\" font-size=\"11\" font-style=\"normal\" font-weight=\"normal\" text-anchor=\"middle\" textLength=\"91\" x=\"185.5\" y=\"133\">GET /index.html</text>\n",
       "  <text fill=\"rgb(0,0,0)\" font-family=\"sans-serif\" font-size=\"11\" font-style=\"normal\" font-weight=\"normal\" text-anchor=\"middle\" textLength=\"109\" x=\"194.5\" y=\"248\">POST /blog/comment</text>\n",
       "  <text fill=\"rgb(0,0,0)\" font-family=\"sans-serif\" font-size=\"11\" font-style=\"normal\" font-weight=\"normal\" text-anchor=\"middle\" textLength=\"85\" x=\"374.5\" y=\"313\">INSERT comment</text>\n",
       "</svg>"
      ],
      "text/plain": [
       "<IPython.core.display.SVG object>"
      ]
     },
     "metadata": {},
     "output_type": "display_data"
    }
   ],
   "source": [
    "%%kroki seqdiag\n",
    "\n",
    "seqdiag {\n",
    "  browser  -> webserver [label = \"GET /index.html\"];\n",
    "  browser <-- webserver;\n",
    "  browser  -> webserver [label = \"POST /blog/comment\"];\n",
    "  webserver  -> database [label = \"INSERT comment\"];\n",
    "  webserver <-- database;\n",
    "  browser <-- webserver;\n",
    "}"
   ]
  },
  {
   "cell_type": "markdown",
   "metadata": {},
   "source": [
    "# Activity Diagram"
   ]
  },
  {
   "cell_type": "code",
   "execution_count": 5,
   "metadata": {},
   "outputs": [
    {
     "data": {
      "image/svg+xml": [
       "<svg height=\"360px\" viewBox=\"0 0 448 360\" width=\"448px\" xmlns=\"http://www.w3.org/2000/svg\" xmlns:inkspace=\"http://www.inkscape.org/namespaces/inkscape\" xmlns:xlink=\"http://www.w3.org/1999/xlink\">\n",
       "  <defs id=\"defs_block\">\n",
       "    <filter height=\"1.504\" id=\"filter_blur\" inkspace:collect=\"always\" width=\"1.1575\" x=\"-0.07875\" y=\"-0.252\">\n",
       "      <feGaussianBlur id=\"feGaussianBlur3780\" inkspace:collect=\"always\" stdDeviation=\"4.2\"/>\n",
       "    </filter>\n",
       "  </defs>\n",
       "  <title>blockdiag</title>\n",
       "  <desc>\n",
       "actdiag {\n",
       "  write -&gt; convert -&gt; image\n",
       "\n",
       "  lane user {\n",
       "    label = &quot;User&quot;\n",
       "    write [label = &quot;Writing reST&quot;];\n",
       "    image [label = &quot;Get diagram IMAGE&quot;];\n",
       "  }\n",
       "  lane actdiag {\n",
       "    convert [label = &quot;Convert reST to Image&quot;];\n",
       "  }\n",
       "}\n",
       "</desc>\n",
       "  <rect fill=\"rgb(0,0,0)\" height=\"40\" stroke=\"rgb(0,0,0)\" style=\"filter:url(#filter_blur);opacity:0.7;fill-opacity:1\" width=\"128\" x=\"67\" y=\"126\"/>\n",
       "  <rect fill=\"rgb(0,0,0)\" height=\"40\" stroke=\"rgb(0,0,0)\" style=\"filter:url(#filter_blur);opacity:0.7;fill-opacity:1\" width=\"128\" x=\"259\" y=\"206\"/>\n",
       "  <rect fill=\"rgb(0,0,0)\" height=\"40\" stroke=\"rgb(0,0,0)\" style=\"filter:url(#filter_blur);opacity:0.7;fill-opacity:1\" width=\"128\" x=\"67\" y=\"286\"/>\n",
       "  <rect fill=\"#ffff99\" height=\"62\" stroke=\"#ffff99\" width=\"192\" x=\"32\" y=\"38\"/>\n",
       "  <text fill=\"rgb(0,0,0)\" font-family=\"sans-serif\" font-size=\"11\" font-style=\"normal\" font-weight=\"normal\" text-anchor=\"middle\" textLength=\"25\" x=\"128.5\" y=\"75\">User</text>\n",
       "  <rect fill=\"#ffff99\" height=\"62\" stroke=\"#ffff99\" width=\"192\" x=\"224\" y=\"38\"/>\n",
       "  <text fill=\"rgb(0,0,0)\" font-family=\"sans-serif\" font-size=\"11\" font-style=\"normal\" font-weight=\"normal\" text-anchor=\"middle\" textLength=\"43\" x=\"320.5\" y=\"75\">actdiag</text>\n",
       "  <rect fill=\"none\" height=\"302\" stroke=\"gray\" width=\"384\" x=\"32\" y=\"38\"/>\n",
       "  <path d=\"M 32 100 L 416 100\" fill=\"none\" stroke=\"gray\"/>\n",
       "  <path d=\"M 224 38 L 224 340\" fill=\"none\" stroke=\"gray\"/>\n",
       "  <rect fill=\"rgb(255,255,255)\" height=\"40\" stroke=\"rgb(0,0,0)\" width=\"128\" x=\"64\" y=\"120\"/>\n",
       "  <text fill=\"rgb(0,0,0)\" font-family=\"sans-serif\" font-size=\"11\" font-style=\"normal\" font-weight=\"normal\" text-anchor=\"middle\" textLength=\"73\" x=\"128.5\" y=\"146\">Writing reST</text>\n",
       "  <rect fill=\"rgb(255,255,255)\" height=\"40\" stroke=\"rgb(0,0,0)\" width=\"128\" x=\"256\" y=\"200\"/>\n",
       "  <text fill=\"rgb(0,0,0)\" font-family=\"sans-serif\" font-size=\"11\" font-style=\"normal\" font-weight=\"normal\" text-anchor=\"middle\" textLength=\"128\" x=\"320.0\" y=\"226\">Convert reST to Image</text>\n",
       "  <rect fill=\"rgb(255,255,255)\" height=\"40\" stroke=\"rgb(0,0,0)\" width=\"128\" x=\"64\" y=\"280\"/>\n",
       "  <text fill=\"rgb(0,0,0)\" font-family=\"sans-serif\" font-size=\"11\" font-style=\"normal\" font-weight=\"normal\" text-anchor=\"middle\" textLength=\"103\" x=\"128.5\" y=\"306\">Get diagram IMAGE</text>\n",
       "  <path d=\"M 128 160 L 128 180\" fill=\"none\" stroke=\"rgb(0,0,0)\"/>\n",
       "  <path d=\"M 128 180 L 320 180\" fill=\"none\" stroke=\"rgb(0,0,0)\"/>\n",
       "  <path d=\"M 320 180 L 320 192\" fill=\"none\" stroke=\"rgb(0,0,0)\"/>\n",
       "  <polygon fill=\"rgb(0,0,0)\" points=\"320,199 316,192 324,192 320,199\" stroke=\"rgb(0,0,0)\"/>\n",
       "  <path d=\"M 320 240 L 320 260\" fill=\"none\" stroke=\"rgb(0,0,0)\"/>\n",
       "  <path d=\"M 128 260 L 320 260\" fill=\"none\" stroke=\"rgb(0,0,0)\"/>\n",
       "  <path d=\"M 128 260 L 128 272\" fill=\"none\" stroke=\"rgb(0,0,0)\"/>\n",
       "  <polygon fill=\"rgb(0,0,0)\" points=\"128,279 124,272 132,272 128,279\" stroke=\"rgb(0,0,0)\"/>\n",
       "</svg>"
      ],
      "text/plain": [
       "<IPython.core.display.SVG object>"
      ]
     },
     "metadata": {},
     "output_type": "display_data"
    }
   ],
   "source": [
    "%%kroki actdiag\n",
    "\n",
    "actdiag {\n",
    "  write -> convert -> image\n",
    "\n",
    "  lane user {\n",
    "    label = \"User\"\n",
    "    write [label = \"Writing reST\"];\n",
    "    image [label = \"Get diagram IMAGE\"];\n",
    "  }\n",
    "  lane actdiag {\n",
    "    convert [label = \"Convert reST to Image\"];\n",
    "  }\n",
    "}"
   ]
  },
  {
   "cell_type": "markdown",
   "metadata": {},
   "source": [
    "# ERD"
   ]
  },
  {
   "cell_type": "code",
   "execution_count": 6,
   "metadata": {},
   "outputs": [
    {
     "data": {
      "image/svg+xml": [
       "<svg height=\"144pt\" viewBox=\"0.00 0.00 300.00 144.00\" width=\"300pt\" xmlns=\"http://www.w3.org/2000/svg\" xmlns:xlink=\"http://www.w3.org/1999/xlink\">\n",
       "<g class=\"graph\" id=\"graph0\" transform=\"scale(1 1) rotate(0) translate(4 140)\">\n",
       "<polygon fill=\"white\" points=\"-4,4 -4,-140 296,-140 296,4 -4,4\" stroke=\"transparent\"/>\n",
       "<!-- Person -->\n",
       "<g class=\"node\" id=\"node1\">\n",
       "<title>Person</title>\n",
       "<polygon fill=\"none\" points=\"8,-104 8,-132 118,-132 118,-104 8,-104\" stroke=\"black\"/>\n",
       "<text font-family=\"Helvetica,sans-Serif\" font-size=\"16.00\" font-weight=\"bold\" text-anchor=\"start\" x=\"35.5\" y=\"-115.2\">Person</text>\n",
       "<polygon fill=\"none\" points=\"8,-79 8,-104 118,-104 118,-79 8,-79\" stroke=\"black\"/>\n",
       "<text font-family=\"Helvetica,sans-Serif\" font-size=\"14.00\" text-anchor=\"start\" text-decoration=\"underline\" x=\"13\" y=\"-88.8\">name</text>\n",
       "<polygon fill=\"none\" points=\"8,-54 8,-79 118,-79 118,-54 8,-54\" stroke=\"black\"/>\n",
       "<text font-family=\"Helvetica,sans-Serif\" font-size=\"14.00\" text-anchor=\"start\" x=\"13\" y=\"-62.8\">height</text>\n",
       "<polygon fill=\"none\" points=\"8,-29 8,-54 118,-54 118,-29 8,-29\" stroke=\"black\"/>\n",
       "<text font-family=\"Helvetica,sans-Serif\" font-size=\"14.00\" text-anchor=\"start\" x=\"13\" y=\"-37.8\">weight</text>\n",
       "<polygon fill=\"none\" points=\"8,-4 8,-29 118,-29 118,-4 8,-4\" stroke=\"black\"/>\n",
       "<text font-family=\"Helvetica,sans-Serif\" font-size=\"14.00\" font-style=\"italic\" text-anchor=\"start\" x=\"13\" y=\"-13.8\">birth_location_id</text>\n",
       "</g>\n",
       "<!-- Location -->\n",
       "<g class=\"node\" id=\"node2\">\n",
       "<title>Location</title>\n",
       "<polygon fill=\"none\" points=\"207.5,-104 207.5,-132 284.5,-132 284.5,-104 207.5,-104\" stroke=\"black\"/>\n",
       "<text font-family=\"Helvetica,sans-Serif\" font-size=\"16.00\" font-weight=\"bold\" text-anchor=\"start\" x=\"212.5\" y=\"-115.2\">Location</text>\n",
       "<polygon fill=\"none\" points=\"207.5,-79 207.5,-104 284.5,-104 284.5,-79 207.5,-79\" stroke=\"black\"/>\n",
       "<text font-family=\"Helvetica,sans-Serif\" font-size=\"14.00\" text-anchor=\"start\" text-decoration=\"underline\" x=\"212.5\" y=\"-88.8\">id</text>\n",
       "<polygon fill=\"none\" points=\"207.5,-54 207.5,-79 284.5,-79 284.5,-54 207.5,-54\" stroke=\"black\"/>\n",
       "<text font-family=\"Helvetica,sans-Serif\" font-size=\"14.00\" text-anchor=\"start\" x=\"212.5\" y=\"-62.8\">city</text>\n",
       "<polygon fill=\"none\" points=\"207.5,-29 207.5,-54 284.5,-54 284.5,-29 207.5,-29\" stroke=\"black\"/>\n",
       "<text font-family=\"Helvetica,sans-Serif\" font-size=\"14.00\" text-anchor=\"start\" x=\"212.5\" y=\"-37.8\">state</text>\n",
       "<polygon fill=\"none\" points=\"207.5,-4 207.5,-29 284.5,-29 284.5,-4 207.5,-4\" stroke=\"black\"/>\n",
       "<text font-family=\"Helvetica,sans-Serif\" font-size=\"14.00\" text-anchor=\"start\" x=\"212.5\" y=\"-12.8\">country</text>\n",
       "</g>\n",
       "<!-- Person&#45;&#45;Location -->\n",
       "<g class=\"edge\" id=\"edge1\">\n",
       "<title>Person--Location</title>\n",
       "<path d=\"M126.12,-68C149.98,-68 176.76,-68 198.8,-68\" fill=\"none\" stroke=\"#7f7f7f\" stroke-dasharray=\"5,2\"/>\n",
       "<text font-family=\"Times,serif\" font-size=\"14.00\" text-anchor=\"start\" x=\"191.8\" y=\"-56.8\">1</text>\n",
       "<text font-family=\"Times,serif\" font-size=\"14.00\" text-anchor=\"start\" x=\"126.12\" y=\"-56.8\">0..N</text>\n",
       "</g>\n",
       "</g>\n",
       "</svg>"
      ],
      "text/plain": [
       "<IPython.core.display.SVG object>"
      ]
     },
     "metadata": {},
     "output_type": "display_data"
    }
   ],
   "source": [
    "%%kroki erd\n",
    "\n",
    "[Person]\n",
    "*name\n",
    "height\n",
    "weight\n",
    "+birth_location_id\n",
    "\n",
    "[Location]\n",
    "*id\n",
    "city\n",
    "state\n",
    "country\n",
    "\n",
    "Person *--1 Location"
   ]
  },
  {
   "cell_type": "markdown",
   "metadata": {},
   "source": [
    "# Gantt"
   ]
  },
  {
   "cell_type": "code",
   "execution_count": 9,
   "metadata": {},
   "outputs": [
    {
     "data": {
      "image/svg+xml": [
       "<svg height=\"196\" id=\"mermaid-1624754907833\" viewBox=\"0 0 584 196\" width=\"584\" xmlns=\"http://www.w3.org/2000/svg\"><style>#mermaid-1624754907833{font-family:&quot;trebuchet ms&quot;,verdana,arial,sans-serif;font-size:16px;fill:#333;}#mermaid-1624754907833 .error-icon{fill:#552222;}#mermaid-1624754907833 .error-text{fill:#552222;stroke:#552222;}#mermaid-1624754907833 .edge-thickness-normal{stroke-width:2px;}#mermaid-1624754907833 .edge-thickness-thick{stroke-width:3.5px;}#mermaid-1624754907833 .edge-pattern-solid{stroke-dasharray:0;}#mermaid-1624754907833 .edge-pattern-dashed{stroke-dasharray:3;}#mermaid-1624754907833 .edge-pattern-dotted{stroke-dasharray:2;}#mermaid-1624754907833 .marker{fill:#333333;stroke:#333333;}#mermaid-1624754907833 .marker.cross{stroke:#333333;}#mermaid-1624754907833 svg{font-family:&quot;trebuchet ms&quot;,verdana,arial,sans-serif;font-size:16px;}#mermaid-1624754907833 .mermaid-main-font{font-family:&quot;trebuchet ms&quot;,verdana,arial,sans-serif;font-family:var(--mermaid-font-family);}#mermaid-1624754907833 .section{stroke:none;opacity:0.2;}#mermaid-1624754907833 .section0{fill:rgba(102,102,255,0.49);}#mermaid-1624754907833 .section2{fill:#fff400;}#mermaid-1624754907833 .section1,#mermaid-1624754907833 .section3{fill:white;opacity:0.2;}#mermaid-1624754907833 .sectionTitle0{fill:#333;}#mermaid-1624754907833 .sectionTitle1{fill:#333;}#mermaid-1624754907833 .sectionTitle2{fill:#333;}#mermaid-1624754907833 .sectionTitle3{fill:#333;}#mermaid-1624754907833 .sectionTitle{text-anchor:start;font-family:'trebuchet ms',verdana,arial,sans-serif;font-family:var(--mermaid-font-family);}#mermaid-1624754907833 .grid .tick{stroke:lightgrey;opacity:0.8;shape-rendering:crispEdges;}#mermaid-1624754907833 .grid .tick text{font-family:&quot;trebuchet ms&quot;,verdana,arial,sans-serif;fill:#333;}#mermaid-1624754907833 .grid path{stroke-width:0;}#mermaid-1624754907833 .today{fill:none;stroke:red;stroke-width:2px;}#mermaid-1624754907833 .task{stroke-width:2;}#mermaid-1624754907833 .taskText{text-anchor:middle;font-family:'trebuchet ms',verdana,arial,sans-serif;font-family:var(--mermaid-font-family);}#mermaid-1624754907833 .taskTextOutsideRight{fill:black;text-anchor:start;font-family:'trebuchet ms',verdana,arial,sans-serif;font-family:var(--mermaid-font-family);}#mermaid-1624754907833 .taskTextOutsideLeft{fill:black;text-anchor:end;}#mermaid-1624754907833 .task.clickable{cursor:pointer;}#mermaid-1624754907833 .taskText.clickable{cursor:pointer;fill:#003163 !important;font-weight:bold;}#mermaid-1624754907833 .taskTextOutsideLeft.clickable{cursor:pointer;fill:#003163 !important;font-weight:bold;}#mermaid-1624754907833 .taskTextOutsideRight.clickable{cursor:pointer;fill:#003163 !important;font-weight:bold;}#mermaid-1624754907833 .taskText0,#mermaid-1624754907833 .taskText1,#mermaid-1624754907833 .taskText2,#mermaid-1624754907833 .taskText3{fill:white;}#mermaid-1624754907833 .task0,#mermaid-1624754907833 .task1,#mermaid-1624754907833 .task2,#mermaid-1624754907833 .task3{fill:#8a90dd;stroke:#534fbc;}#mermaid-1624754907833 .taskTextOutside0,#mermaid-1624754907833 .taskTextOutside2{fill:black;}#mermaid-1624754907833 .taskTextOutside1,#mermaid-1624754907833 .taskTextOutside3{fill:black;}#mermaid-1624754907833 .active0,#mermaid-1624754907833 .active1,#mermaid-1624754907833 .active2,#mermaid-1624754907833 .active3{fill:#bfc7ff;stroke:#534fbc;}#mermaid-1624754907833 .activeText0,#mermaid-1624754907833 .activeText1,#mermaid-1624754907833 .activeText2,#mermaid-1624754907833 .activeText3{fill:black !important;}#mermaid-1624754907833 .done0,#mermaid-1624754907833 .done1,#mermaid-1624754907833 .done2,#mermaid-1624754907833 .done3{stroke:grey;fill:lightgrey;stroke-width:2;}#mermaid-1624754907833 .doneText0,#mermaid-1624754907833 .doneText1,#mermaid-1624754907833 .doneText2,#mermaid-1624754907833 .doneText3{fill:black !important;}#mermaid-1624754907833 .crit0,#mermaid-1624754907833 .crit1,#mermaid-1624754907833 .crit2,#mermaid-1624754907833 .crit3{stroke:#ff8888;fill:red;stroke-width:2;}#mermaid-1624754907833 .activeCrit0,#mermaid-1624754907833 .activeCrit1,#mermaid-1624754907833 .activeCrit2,#mermaid-1624754907833 .activeCrit3{stroke:#ff8888;fill:#bfc7ff;stroke-width:2;}#mermaid-1624754907833 .doneCrit0,#mermaid-1624754907833 .doneCrit1,#mermaid-1624754907833 .doneCrit2,#mermaid-1624754907833 .doneCrit3{stroke:#ff8888;fill:lightgrey;stroke-width:2;cursor:pointer;shape-rendering:crispEdges;}#mermaid-1624754907833 .milestone{-webkit-transform:rotate(45deg) scale(0.8,0.8);-ms-transform:rotate(45deg) scale(0.8,0.8);transform:rotate(45deg) scale(0.8,0.8);}#mermaid-1624754907833 .milestoneText{font-style:italic;}#mermaid-1624754907833 .doneCritText0,#mermaid-1624754907833 .doneCritText1,#mermaid-1624754907833 .doneCritText2,#mermaid-1624754907833 .doneCritText3{fill:black !important;}#mermaid-1624754907833 .activeCritText0,#mermaid-1624754907833 .activeCritText1,#mermaid-1624754907833 .activeCritText2,#mermaid-1624754907833 .activeCritText3{fill:black !important;}#mermaid-1624754907833 .titleText{text-anchor:middle;font-size:18px;fill:#333;font-family:'trebuchet ms',verdana,arial,sans-serif;font-family:var(--mermaid-font-family);}#mermaid-1624754907833:root{--mermaid-font-family:&quot;trebuchet ms&quot;,verdana,arial,sans-serif;}</style><g/><g class=\"grid\" fill=\"none\" font-family=\"sans-serif\" font-size=\"10\" text-anchor=\"middle\" transform=\"translate(75, 146)\"><path class=\"domain\" d=\"M0.5,-111V0.5H434.5V-111\" stroke=\"currentColor\"/><g class=\"tick\" opacity=\"1\" transform=\"translate(35.5,0)\"><line stroke=\"currentColor\" y2=\"-111\"/><text dy=\"1em\" fill=\"#000\" font-size=\"10\" stroke=\"none\" style=\"text-anchor: middle;\" y=\"3\">2014-01-05</text></g><g class=\"tick\" opacity=\"1\" transform=\"translate(95.5,0)\"><line stroke=\"currentColor\" y2=\"-111\"/><text dy=\"1em\" fill=\"#000\" font-size=\"10\" stroke=\"none\" style=\"text-anchor: middle;\" y=\"3\">2014-01-12</text></g><g class=\"tick\" opacity=\"1\" transform=\"translate(156.5,0)\"><line stroke=\"currentColor\" y2=\"-111\"/><text dy=\"1em\" fill=\"#000\" font-size=\"10\" stroke=\"none\" style=\"text-anchor: middle;\" y=\"3\">2014-01-19</text></g><g class=\"tick\" opacity=\"1\" transform=\"translate(217.5,0)\"><line stroke=\"currentColor\" y2=\"-111\"/><text dy=\"1em\" fill=\"#000\" font-size=\"10\" stroke=\"none\" style=\"text-anchor: middle;\" y=\"3\">2014-01-26</text></g><g class=\"tick\" opacity=\"1\" transform=\"translate(278.5,0)\"><line stroke=\"currentColor\" y2=\"-111\"/><text dy=\"1em\" fill=\"#000\" font-size=\"10\" stroke=\"none\" style=\"text-anchor: middle;\" y=\"3\">2014-02-02</text></g><g class=\"tick\" opacity=\"1\" transform=\"translate(339.5,0)\"><line stroke=\"currentColor\" y2=\"-111\"/><text dy=\"1em\" fill=\"#000\" font-size=\"10\" stroke=\"none\" style=\"text-anchor: middle;\" y=\"3\">2014-02-09</text></g><g class=\"tick\" opacity=\"1\" transform=\"translate(399.5,0)\"><line stroke=\"currentColor\" y2=\"-111\"/><text dy=\"1em\" fill=\"#000\" font-size=\"10\" stroke=\"none\" style=\"text-anchor: middle;\" y=\"3\">2014-02-16</text></g></g><g><rect class=\"section section0\" height=\"24\" width=\"546.5\" x=\"0\" y=\"48\"/><rect class=\"section section1\" height=\"24\" width=\"546.5\" x=\"0\" y=\"96\"/><rect class=\"section section1\" height=\"24\" width=\"546.5\" x=\"0\" y=\"120\"/><rect class=\"section section0\" height=\"24\" width=\"546.5\" x=\"0\" y=\"72\"/></g><g><rect class=\"task task0 \" height=\"20\" id=\"a1\" rx=\"3\" ry=\"3\" transform-origin=\"205px 60px\" width=\"260\" x=\"75\" y=\"50\"/><rect class=\"task task1 \" height=\"20\" id=\"task2\" rx=\"3\" ry=\"3\" transform-origin=\"222.5px 108px\" width=\"105\" x=\"170\" y=\"98\"/><rect class=\"task task1 \" height=\"20\" id=\"task3\" rx=\"3\" ry=\"3\" transform-origin=\"379px 132px\" width=\"208\" x=\"275\" y=\"122\"/><rect class=\"task task0 \" height=\"20\" id=\"task1\" rx=\"3\" ry=\"3\" transform-origin=\"422px 84px\" width=\"174\" x=\"335\" y=\"74\"/><text class=\" taskText taskText0  width-31.078125\" font-size=\"11\" id=\"a1-text\" text-height=\"20\" x=\"205\" y=\"63.5\">A task           </text><text class=\" taskText taskText1  width-55.140625\" font-size=\"11\" id=\"task2-text\" text-height=\"20\" x=\"222.5\" y=\"111.5\">Task in sec      </text><text class=\" taskText taskText1  width-64.921875\" font-size=\"11\" id=\"task3-text\" text-height=\"20\" x=\"379\" y=\"135.5\">another task     </text><text class=\" taskText taskText0  width-65.765625\" font-size=\"11\" id=\"task1-text\" text-height=\"20\" x=\"422\" y=\"87.5\">Another task     </text></g><g><text class=\"sectionTitle sectionTitle0\" dy=\"0em\" font-size=\"11\" x=\"10\" y=\"74\"><tspan alignment-baseline=\"central\" x=\"10\">Section</tspan></text><text class=\"sectionTitle sectionTitle1\" dy=\"0em\" font-size=\"11\" x=\"10\" y=\"122\"><tspan alignment-baseline=\"central\" x=\"10\">Another</tspan></text></g><g class=\"today\"><line class=\"today\" x1=\"23806\" x2=\"23806\" y1=\"25\" y2=\"171\"/></g><text class=\"titleText\" x=\"292\" y=\"25\">A Gantt Diagram</text></svg>"
      ],
      "text/plain": [
       "<IPython.core.display.SVG object>"
      ]
     },
     "metadata": {},
     "output_type": "display_data"
    }
   ],
   "source": [
    "%%kroki mermaid\n",
    "\n",
    "gantt\n",
    "    title A Gantt Diagram\n",
    "    dateFormat  YYYY-MM-DD\n",
    "    section Section\n",
    "    A task           :a1, 2014-01-01, 30d\n",
    "    Another task     :after a1, 20d\n",
    "    section Another\n",
    "    Task in sec      :2014-01-12, 12d\n",
    "    another task     :24d"
   ]
  },
  {
   "cell_type": "markdown",
   "metadata": {},
   "source": [
    "# MindMap"
   ]
  },
  {
   "cell_type": "code",
   "execution_count": 12,
   "metadata": {},
   "outputs": [
    {
     "data": {
      "image/svg+xml": [
       "<svg contentScriptType=\"application/ecmascript\" contentStyleType=\"text/css\" height=\"391px\" preserveAspectRatio=\"none\" style=\"width:615px;height:391px;background:#FFFFFF;\" version=\"1.1\" viewBox=\"0 0 615 391\" width=\"615px\" xmlns=\"http://www.w3.org/2000/svg\" xmlns:xlink=\"http://www.w3.org/1999/xlink\" zoomAndPan=\"magnify\"><defs><filter height=\"300%\" id=\"f1b63j0t6g9w53\" width=\"300%\" x=\"-1\" y=\"-1\"><feGaussianBlur result=\"blurOut\" stdDeviation=\"2.0\"/><feColorMatrix in=\"blurOut\" result=\"blurOut2\" type=\"matrix\" values=\"0 0 0 0 0 0 0 0 0 0 0 0 0 0 0 0 0 0 .4 0\"/><feOffset dx=\"4.0\" dy=\"4.0\" in=\"blurOut2\" result=\"blurOut3\"/><feBlend in=\"SourceGraphic\" in2=\"blurOut3\" mode=\"normal\"/></filter></defs><g><rect fill=\"#F8F8F8\" filter=\"url(#f1b63j0t6g9w53)\" height=\"36.7999\" rx=\"12.5\" ry=\"12.5\" style=\"stroke:#383838;stroke-width:1.5;\" width=\"40\" x=\"305\" y=\"176.1998\"/><text fill=\"#000000\" font-family=\"sans-serif\" font-size=\"14\" lengthAdjust=\"spacing\" textLength=\"20\" x=\"315\" y=\"200.1997\">OS</text><rect fill=\"#F8F8F8\" filter=\"url(#f1b63j0t6g9w53)\" height=\"36.7999\" rx=\"12.5\" ry=\"12.5\" style=\"stroke:#383838;stroke-width:1.5;\" width=\"66\" x=\"395\" y=\"105.1999\"/><text fill=\"#000000\" font-family=\"sans-serif\" font-size=\"14\" lengthAdjust=\"spacing\" textLength=\"46\" x=\"405\" y=\"129.1998\">Ubuntu</text><rect fill=\"#F8F8F8\" filter=\"url(#f1b63j0t6g9w53)\" height=\"36.7999\" rx=\"12.5\" ry=\"12.5\" style=\"stroke:#383838;stroke-width:1.5;\" width=\"85\" x=\"511\" y=\"20\"/><text fill=\"#000000\" font-family=\"sans-serif\" font-size=\"14\" lengthAdjust=\"spacing\" textLength=\"65\" x=\"521\" y=\"43.9999\">Linux Mint</text><path d=\"M461,123.5999 L471,123.5999 C486,123.5999 486,38.4 501,38.4 L511,38.4 \" fill=\"none\" style=\"stroke:#383838;stroke-width:1.0;\"/><rect fill=\"#F8F8F8\" filter=\"url(#f1b63j0t6g9w53)\" height=\"36.7999\" rx=\"12.5\" ry=\"12.5\" style=\"stroke:#383838;stroke-width:1.5;\" width=\"73\" x=\"511\" y=\"76.7999\"/><text fill=\"#000000\" font-family=\"sans-serif\" font-size=\"14\" lengthAdjust=\"spacing\" textLength=\"53\" x=\"521\" y=\"100.7999\">Kubuntu</text><path d=\"M461,123.5999 L471,123.5999 C486,123.5999 486,95.1999 501,95.1999 L511,95.1999 \" fill=\"none\" style=\"stroke:#383838;stroke-width:1.0;\"/><rect fill=\"#F8F8F8\" filter=\"url(#f1b63j0t6g9w53)\" height=\"36.7999\" rx=\"12.5\" ry=\"12.5\" style=\"stroke:#383838;stroke-width:1.5;\" width=\"72\" x=\"511\" y=\"133.5999\"/><text fill=\"#000000\" font-family=\"sans-serif\" font-size=\"14\" lengthAdjust=\"spacing\" textLength=\"52\" x=\"521\" y=\"157.5998\">Lubuntu</text><path d=\"M461,123.5999 L471,123.5999 C486,123.5999 486,151.9998 501,151.9998 L511,151.9998 \" fill=\"none\" style=\"stroke:#383838;stroke-width:1.0;\"/><rect fill=\"#F8F8F8\" filter=\"url(#f1b63j0t6g9w53)\" height=\"36.7999\" rx=\"12.5\" ry=\"12.5\" style=\"stroke:#383838;stroke-width:1.5;\" width=\"84\" x=\"511\" y=\"190.3998\"/><text fill=\"#000000\" font-family=\"sans-serif\" font-size=\"14\" lengthAdjust=\"spacing\" textLength=\"64\" x=\"521\" y=\"214.3997\">KDE Neon</text><path d=\"M461,123.5999 L471,123.5999 C486,123.5999 486,208.7997 501,208.7997 L511,208.7997 \" fill=\"none\" style=\"stroke:#383838;stroke-width:1.0;\"/><path d=\"M345,194.5998 L355,194.5998 C370,194.5998 370,123.5999 385,123.5999 L395,123.5999 \" fill=\"none\" style=\"stroke:#383838;stroke-width:1.0;\"/><rect fill=\"#F8F8F8\" filter=\"url(#f1b63j0t6g9w53)\" height=\"36.7999\" rx=\"12.5\" ry=\"12.5\" style=\"stroke:#383838;stroke-width:1.5;\" width=\"59\" x=\"395\" y=\"161.9998\"/><text fill=\"#000000\" font-family=\"sans-serif\" font-size=\"14\" lengthAdjust=\"spacing\" textLength=\"39\" x=\"405\" y=\"185.9998\">LMDE</text><path d=\"M345,194.5998 L355,194.5998 C370,194.5998 370,180.3998 385,180.3998 L395,180.3998 \" fill=\"none\" style=\"stroke:#383838;stroke-width:1.0;\"/><rect fill=\"#F8F8F8\" filter=\"url(#f1b63j0t6g9w53)\" height=\"36.7999\" rx=\"12.5\" ry=\"12.5\" style=\"stroke:#383838;stroke-width:1.5;\" width=\"72\" x=\"395\" y=\"218.7997\"/><text fill=\"#000000\" font-family=\"sans-serif\" font-size=\"14\" lengthAdjust=\"spacing\" textLength=\"52\" x=\"405\" y=\"242.7997\">SolydXK</text><path d=\"M345,194.5998 L355,194.5998 C370,194.5998 370,237.1997 385,237.1997 L395,237.1997 \" fill=\"none\" style=\"stroke:#383838;stroke-width:1.0;\"/><rect fill=\"#F8F8F8\" filter=\"url(#f1b63j0t6g9w53)\" height=\"36.7999\" rx=\"12.5\" ry=\"12.5\" style=\"stroke:#383838;stroke-width:1.5;\" width=\"79\" x=\"395\" y=\"275.5997\"/><text fill=\"#000000\" font-family=\"sans-serif\" font-size=\"14\" lengthAdjust=\"spacing\" textLength=\"59\" x=\"405\" y=\"299.5996\">SteamOS</text><path d=\"M345,194.5998 L355,194.5998 C370,194.5998 370,293.9996 385,293.9996 L395,293.9996 \" fill=\"none\" style=\"stroke:#383838;stroke-width:1.0;\"/><rect fill=\"#F8F8F8\" filter=\"url(#f1b63j0t6g9w53)\" height=\"36.7999\" rx=\"12.5\" ry=\"12.5\" style=\"stroke:#383838;stroke-width:1.5;\" width=\"80\" x=\"395\" y=\"332.3996\"/><text fill=\"#000000\" font-family=\"sans-serif\" font-size=\"14\" lengthAdjust=\"spacing\" textLength=\"60\" x=\"405\" y=\"356.3995\">Raspbian</text><path d=\"M345,194.5998 L355,194.5998 C370,194.5998 370,350.7996 385,350.7996 L395,350.7996 \" fill=\"none\" style=\"stroke:#383838;stroke-width:1.0;\"/><rect fill=\"#F8F8F8\" filter=\"url(#f1b63j0t6g9w53)\" height=\"36.7999\" rx=\"12.5\" ry=\"12.5\" style=\"stroke:#383838;stroke-width:1.5;\" width=\"96\" x=\"159\" y=\"105.1999\"/><text fill=\"#000000\" font-family=\"sans-serif\" font-size=\"14\" lengthAdjust=\"spacing\" textLength=\"76\" x=\"169\" y=\"129.1998\">Windows 95</text><path d=\"M305,194.5998 L295,194.5998 C280,194.5998 280,123.5999 265,123.5999 L255,123.5999 \" fill=\"none\" style=\"stroke:#383838;stroke-width:1.0;\"/><rect fill=\"#F8F8F8\" filter=\"url(#f1b63j0t6g9w53)\" height=\"36.7999\" rx=\"12.5\" ry=\"12.5\" style=\"stroke:#383838;stroke-width:1.5;\" width=\"96\" x=\"159\" y=\"161.9998\"/><text fill=\"#000000\" font-family=\"sans-serif\" font-size=\"14\" lengthAdjust=\"spacing\" textLength=\"76\" x=\"169\" y=\"185.9998\">Windows 98</text><path d=\"M305,194.5998 L295,194.5998 C280,194.5998 280,180.3998 265,180.3998 L255,180.3998 \" fill=\"none\" style=\"stroke:#383838;stroke-width:1.0;\"/><rect fill=\"#F8F8F8\" filter=\"url(#f1b63j0t6g9w53)\" height=\"36.7999\" rx=\"12.5\" ry=\"12.5\" style=\"stroke:#383838;stroke-width:1.5;\" width=\"99\" x=\"156\" y=\"218.7997\"/><text fill=\"#000000\" font-family=\"sans-serif\" font-size=\"14\" lengthAdjust=\"spacing\" textLength=\"79\" x=\"166\" y=\"242.7997\">Windows NT</text><rect fill=\"#F8F8F8\" filter=\"url(#f1b63j0t6g9w53)\" height=\"36.7999\" rx=\"12.5\" ry=\"12.5\" style=\"stroke:#383838;stroke-width:1.5;\" width=\"88\" x=\"18\" y=\"190.3998\"/><text fill=\"#000000\" font-family=\"sans-serif\" font-size=\"14\" lengthAdjust=\"spacing\" textLength=\"68\" x=\"28\" y=\"214.3997\">Windows 8</text><path d=\"M156,237.1997 L146,237.1997 C131,237.1997 131,208.7997 116,208.7997 L106,208.7997 \" fill=\"none\" style=\"stroke:#383838;stroke-width:1.0;\"/><rect fill=\"#F8F8F8\" filter=\"url(#f1b63j0t6g9w53)\" height=\"36.7999\" rx=\"12.5\" ry=\"12.5\" style=\"stroke:#383838;stroke-width:1.5;\" width=\"96\" x=\"10\" y=\"247.1997\"/><text fill=\"#000000\" font-family=\"sans-serif\" font-size=\"14\" lengthAdjust=\"spacing\" textLength=\"76\" x=\"20\" y=\"271.1996\">Windows 10</text><path d=\"M156,237.1997 L146,237.1997 C131,237.1997 131,265.5997 116,265.5997 L106,265.5997 \" fill=\"none\" style=\"stroke:#383838;stroke-width:1.0;\"/><path d=\"M305,194.5998 L295,194.5998 C280,194.5998 280,237.1997 265,237.1997 L255,237.1997 \" fill=\"none\" style=\"stroke:#383838;stroke-width:1.0;\"/><!--MD5=[73a71961587b12ef17195f0dd453ac71]\n",
       "@startmindmap\n",
       "skinparam monochrome true\n",
       "+ OS\n",
       "++ Ubuntu\n",
       "+++ Linux Mint\n",
       "+++ Kubuntu\n",
       "+++ Lubuntu\n",
       "+++ KDE Neon\n",
       "++ LMDE\n",
       "++ SolydXK\n",
       "++ SteamOS\n",
       "++ Raspbian\n",
       "- - Windows 95\n",
       "- - Windows 98\n",
       "- - Windows NT\n",
       "- - - Windows 8\n",
       "- - - Windows 10\n",
       "@endmindmap\n",
       "\n",
       "PlantUML version 1.2021.6(Fri May 14 07:09:51 GMT 2021)\n",
       "(GPL source distribution)\n",
       "Java Runtime: OpenJDK Runtime Environment\n",
       "JVM: OpenJDK 64-Bit Server VM\n",
       "Default Encoding: UTF-8\n",
       "Language: en\n",
       "Country: US\n",
       "--></g></svg>"
      ],
      "text/plain": [
       "<IPython.core.display.SVG object>"
      ]
     },
     "metadata": {},
     "output_type": "display_data"
    }
   ],
   "source": [
    "%%kroki plantuml\n",
    "\n",
    "@startmindmap\n",
    "skinparam monochrome true\n",
    "+ OS\n",
    "++ Ubuntu\n",
    "+++ Linux Mint\n",
    "+++ Kubuntu\n",
    "+++ Lubuntu\n",
    "+++ KDE Neon\n",
    "++ LMDE\n",
    "++ SolydXK\n",
    "++ SteamOS\n",
    "++ Raspbian\n",
    "-- Windows 95\n",
    "-- Windows 98\n",
    "-- Windows NT\n",
    "--- Windows 8\n",
    "--- Windows 10\n",
    "@endmindmap"
   ]
  }
 ],
 "metadata": {
  "kernelspec": {
   "display_name": "Python 3",
   "language": "python",
   "name": "python3"
  },
  "language_info": {
   "codemirror_mode": {
    "name": "ipython",
    "version": 3
   },
   "file_extension": ".py",
   "mimetype": "text/x-python",
   "name": "python",
   "nbconvert_exporter": "python",
   "pygments_lexer": "ipython3",
   "version": "3.7.4"
  }
 },
 "nbformat": 4,
 "nbformat_minor": 4
}
